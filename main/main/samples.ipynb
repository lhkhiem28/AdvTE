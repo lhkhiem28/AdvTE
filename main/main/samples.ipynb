{
 "cells": [
  {
   "cell_type": "code",
   "execution_count": null,
   "metadata": {},
   "outputs": [],
   "source": [
    "import os, sys\n",
    "__dir__ = os.path.dirname(os.path.abspath(\"\"))\n",
    "sys.path.append(__dir__), sys.path.append(os.path.abspath(os.path.join(__dir__, \"..\")))\n",
    "from libs import *\n",
    "\n",
    "from matplotlib import pyplot as plt\n",
    "from generate import Generator"
   ]
  },
  {
   "cell_type": "code",
   "execution_count": null,
   "metadata": {},
   "outputs": [],
   "source": [
    "generator = Generator(\"../ckps/ACS-P/P/GS.ptl\")"
   ]
  },
  {
   "cell_type": "code",
   "execution_count": null,
   "metadata": {},
   "outputs": [],
   "source": [
    "image_files = [\n",
    "    \"samples/ACS/1-1.jpg\", \n",
    "    \"samples/ACS/2-1.jpg\", \n",
    "    \"samples/ACS/3-1.jpg\", \n",
    "]\n",
    "\n",
    "plt.figure(figsize = (9, 6))\n",
    "for i, image_file in enumerate(image_files):\n",
    "    image = cv2.imread(image_file)\n",
    "    image = cv2.cvtColor(\n",
    "        image, \n",
    "        code = cv2.COLOR_BGR2RGB, \n",
    "    )\n",
    "    generated_image = generator.generate(image)\n",
    "    plt.subplot(2, 3, i + 1); plt.imshow(image); plt.axis(\"off\"); \n",
    "    plt.subplot(2, 3, i + 4); plt.imshow(generated_image); plt.axis(\"off\"); "
   ]
  },
  {
   "cell_type": "code",
   "execution_count": null,
   "metadata": {},
   "outputs": [],
   "source": [
    "image_files = [\n",
    "    \"samples/ACS/1-2.jpg\", \n",
    "    \"samples/ACS/2-2.jpg\", \n",
    "    \"samples/ACS/3-2.jpg\", \n",
    "]\n",
    "\n",
    "plt.figure(figsize = (9, 6))\n",
    "for i, image_file in enumerate(image_files):\n",
    "    image = cv2.imread(image_file)\n",
    "    image = cv2.cvtColor(\n",
    "        image, \n",
    "        code = cv2.COLOR_BGR2RGB, \n",
    "    )\n",
    "    generated_image = generator.generate(image)\n",
    "    plt.subplot(2, 3, i + 1); plt.imshow(image); plt.axis(\"off\"); \n",
    "    plt.subplot(2, 3, i + 4); plt.imshow(generated_image); plt.axis(\"off\"); "
   ]
  }
 ],
 "metadata": {
  "kernelspec": {
   "display_name": "pytorch",
   "language": "python",
   "name": "python3"
  },
  "language_info": {
   "codemirror_mode": {
    "name": "ipython",
    "version": 3
   },
   "file_extension": ".py",
   "mimetype": "text/x-python",
   "name": "python",
   "nbconvert_exporter": "python",
   "pygments_lexer": "ipython3",
   "version": "3.8.16"
  },
  "orig_nbformat": 4
 },
 "nbformat": 4,
 "nbformat_minor": 2
}
