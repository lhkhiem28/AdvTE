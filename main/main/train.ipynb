{
 "cells": [
  {
   "cell_type": "code",
   "execution_count": null,
   "metadata": {},
   "outputs": [],
   "source": [
    "import os, sys\n",
    "__dir__ = os.path.dirname(os.path.abspath(\"\"))\n",
    "sys.path.append(__dir__), sys.path.append(os.path.abspath(os.path.join(__dir__, \"..\")))\n",
    "from libs import *\n",
    "\n",
    "from data import ImageDataset\n",
    "from dassl.modeling.network import *"
   ]
  },
  {
   "cell_type": "code",
   "execution_count": null,
   "metadata": {},
   "outputs": [],
   "source": [
    "train_loaders = {\n",
    "    \"train\":torch.utils.data.DataLoader(\n",
    "        ImageDataset(\n",
    "            data_dir = \"../../datasets/P-ACS/{}/\".format(\"ACS\"), \n",
    "            augment = True, \n",
    "        ), \n",
    "        num_workers = 8, batch_size = 16, \n",
    "        shuffle = True, \n",
    "    ), \n",
    "    \"val\":torch.utils.data.DataLoader(\n",
    "        ImageDataset(\n",
    "            data_dir = \"../../datasets/P-ACS/{}/\".format(\"P\"), \n",
    "            augment = False, \n",
    "        ), \n",
    "        num_workers = 8, batch_size = 16, \n",
    "        shuffle = False, \n",
    "    ), \n",
    "}"
   ]
  },
  {
   "cell_type": "code",
   "execution_count": null,
   "metadata": {},
   "outputs": [],
   "source": [
    "device = torch.device(\"cuda:1\")\n",
    "\n",
    "Ft, C = torch.load(\"../../warmup/ckps/P-ACS/P/last.ptl\").backbone.to(device), torch.load(\"../../warmup/ckps/P-ACS/P/last.ptl\").classifier.to(device)\n",
    "for parameter in C.parameters():\n",
    "    parameter.requires_grad = False\n",
    "Fs = torchvision.models.resnet18(pretrained = True).to(device)\n",
    "Fs.fc = nn.Identity()\n",
    "G = fcn_3x64_gctx().to(device)"
   ]
  },
  {
   "cell_type": "code",
   "execution_count": null,
   "metadata": {},
   "outputs": [],
   "source": [
    "def LFs(\n",
    "    augmented_logits, logits, \n",
    "):\n",
    "    normalized_augmented_logits, normalized_logits,  = augmented_logits/torch.norm(augmented_logits, p = 2), logits/torch.norm(logits, p = 2), \n",
    "    return torch.dist(normalized_augmented_logits, normalized_logits, p = 2)\n",
    "def LG(\n",
    "    augmented_logits, logits, \n",
    "    m = 0.01, \n",
    "    device = torch.device(\"cpu\"), \n",
    "):\n",
    "    normalized_augmented_logits, normalized_logits,  = augmented_logits/torch.norm(augmented_logits, p = 2), logits/torch.norm(logits, p = 2), \n",
    "    return torch.minimum(torch.dist(normalized_augmented_logits, normalized_logits, p = 2) - m, torch.zeros(1).to(device))\n",
    "\n",
    "optimizer_Fs = optim.SGD(\n",
    "    Fs.parameters(), weight_decay = 5e-4, \n",
    "    lr = 5e-4, \n",
    ")\n",
    "scheduler_Fs = optim.lr_scheduler.StepLR(\n",
    "    optimizer_Fs, \n",
    "    step_size = 30, gamma = 0.1, \n",
    ")\n",
    "optimizer_G = optim.SGD(\n",
    "    G.parameters(), weight_decay = 5e-4, \n",
    "    lr = 5e-4, \n",
    ")\n",
    "scheduler_G = optim.lr_scheduler.StepLR(\n",
    "    optimizer_G, \n",
    "    step_size = 30, gamma = 0.1, \n",
    ")"
   ]
  },
  {
   "cell_type": "code",
   "execution_count": null,
   "metadata": {},
   "outputs": [],
   "source": [
    "num_epochs = 60\n",
    "for epoch in range(1, num_epochs + 1):\n",
    "    print(\"epoch {}/{}\".format(epoch, num_epochs) + \"\\n\" + \" - \"*16)\n",
    "\n",
    "    for images, labels in tqdm.tqdm(train_loaders[\"train\"]):\n",
    "        images, labels = images.to(device), labels.to(device)\n",
    "\n",
    "        augmented_images = G(images)\n",
    "        augmented_logits, logits,  = Fs(augmented_images.float()), Ft(images.float()), \n",
    "        break\n",
    "    break"
   ]
  }
 ],
 "metadata": {
  "kernelspec": {
   "display_name": "fliot",
   "language": "python",
   "name": "python3"
  },
  "language_info": {
   "codemirror_mode": {
    "name": "ipython",
    "version": 3
   },
   "file_extension": ".py",
   "mimetype": "text/x-python",
   "name": "python",
   "nbconvert_exporter": "python",
   "pygments_lexer": "ipython3",
   "version": "3.8.15"
  },
  "orig_nbformat": 4
 },
 "nbformat": 4,
 "nbformat_minor": 2
}
