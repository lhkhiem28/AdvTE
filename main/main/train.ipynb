{
 "cells": [
  {
   "cell_type": "code",
   "execution_count": 1,
   "metadata": {},
   "outputs": [
    {
     "name": "stderr",
     "output_type": "stream",
     "text": [
      "Global seed set to 23\n"
     ]
    }
   ],
   "source": [
    "import os, sys\n",
    "__dir__ = os.path.dirname(os.path.abspath(\"\"))\n",
    "sys.path.append(__dir__), sys.path.append(os.path.abspath(os.path.join(__dir__, \"..\")))\n",
    "from libs import *"
   ]
  },
  {
   "cell_type": "code",
   "execution_count": 2,
   "metadata": {},
   "outputs": [],
   "source": [
    "from data import ImageDataset\n",
    "from dassl.modeling.network import fcn_3x64_gctx"
   ]
  },
  {
   "cell_type": "code",
   "execution_count": 3,
   "metadata": {},
   "outputs": [],
   "source": [
    "train_loaders = {\n",
    "    \"train\":torch.utils.data.DataLoader(\n",
    "        ImageDataset(\n",
    "            data_dir = \"../../datasets/P-ACS/{}/\".format(\"ACS\"), \n",
    "            augment = True, \n",
    "        ), \n",
    "        num_workers = 8, batch_size = 32, \n",
    "        shuffle = True, \n",
    "    ), \n",
    "    \"val\":torch.utils.data.DataLoader(\n",
    "        ImageDataset(\n",
    "            data_dir = \"../../datasets/P-ACS/{}/\".format(\"P\"), \n",
    "            augment = False, \n",
    "        ), \n",
    "        num_workers = 8, batch_size = 32, \n",
    "        shuffle = False, \n",
    "    ), \n",
    "}"
   ]
  },
  {
   "cell_type": "code",
   "execution_count": 4,
   "metadata": {},
   "outputs": [],
   "source": [
    "Ft, C = torch.load(\"../../warmup/ckps/P-ACS/P/last.ptl\").backbone, torch.load(\"../../warmup/ckps/P-ACS/P/last.ptl\").classifier\n",
    "for parameter in C.parameters():\n",
    "    parameter.requires_grad = False\n",
    "Fs = torchvision.models.resnet50(pretrained = True)\n",
    "Fs = nn.Identity()\n",
    "G = fcn_3x64_gctx()"
   ]
  },
  {
   "cell_type": "code",
   "execution_count": null,
   "metadata": {},
   "outputs": [],
   "source": [
    "optimizer_Fs = optim.SGD(\n",
    "    Fs.parameters(), weight_decay = 5e-4, \n",
    "    lr = 5e-4, \n",
    ")\n",
    "scheduler_Fs = optim.lr_scheduler.StepLR(\n",
    "    optimizer_Fs, \n",
    "    step_size = 30, gamma = 0.1, \n",
    ")\n",
    "optimizer_G = optim.SGD(\n",
    "    G.parameters(), weight_decay = 5e-4, \n",
    "    lr = 5e-4, \n",
    ")\n",
    "scheduler_G = optim.lr_scheduler.StepLR(\n",
    "    optimizer_G, \n",
    "    step_size = 30, gamma = 0.1, \n",
    ")"
   ]
  }
 ],
 "metadata": {
  "kernelspec": {
   "display_name": "fliot",
   "language": "python",
   "name": "python3"
  },
  "language_info": {
   "codemirror_mode": {
    "name": "ipython",
    "version": 3
   },
   "file_extension": ".py",
   "mimetype": "text/x-python",
   "name": "python",
   "nbconvert_exporter": "python",
   "pygments_lexer": "ipython3",
   "version": "3.8.15"
  },
  "orig_nbformat": 4
 },
 "nbformat": 4,
 "nbformat_minor": 2
}
